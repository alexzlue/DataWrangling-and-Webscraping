{
 "cells": [
  {
   "cell_type": "markdown",
   "metadata": {},
   "source": [
    "# Chapter 1. Beginning to Scrape"
   ]
  },
  {
   "cell_type": "code",
   "execution_count": 1,
   "metadata": {},
   "outputs": [
    {
     "name": "stdout",
     "output_type": "stream",
     "text": [
      "b'<html>\\n<head>\\n<title>A Useful Page</title>\\n</head>\\n<body>\\n<h1>An Interesting Title</h1>\\n<div>\\nLorem ipsum dolor sit amet, consectetur adipisicing elit, sed do eiusmod tempor incididunt ut labore et dolore magna aliqua. Ut enim ad minim veniam, quis nostrud exercitation ullamco laboris nisi ut aliquip ex ea commodo consequat. Duis aute irure dolor in reprehenderit in voluptate velit esse cillum dolore eu fugiat nulla pariatur. Excepteur sint occaecat cupidatat non proident, sunt in culpa qui officia deserunt mollit anim id est laborum.\\n</div>\\n</body>\\n</html>\\n'\n"
     ]
    }
   ],
   "source": [
    "from urllib.request import urlopen\n",
    "from urllib.error import HTTPError\n",
    "from bs4 import BeautifulSoup\n",
    "\n",
    "# this opens the html page returned from the url and\n",
    "# prints the html to stdout\n",
    "html = urlopen('http://pythonscraping.com/pages/page1.html')\n",
    "print(html.read())\n",
    "# type(html)"
   ]
  },
  {
   "cell_type": "code",
   "execution_count": 2,
   "metadata": {},
   "outputs": [
    {
     "name": "stdout",
     "output_type": "stream",
     "text": [
      "<h1>An Interesting Title</h1>\n"
     ]
    }
   ],
   "source": [
    "html = urlopen(\"http://www.pythonscraping.com/exercises/exercise1.html\")\n",
    "\n",
    "# BeautifulSoup is allows us to read in the html page given and\n",
    "# create a bs datatype that holds the data for the html page as\n",
    "# object attributes\n",
    "bsObj = BeautifulSoup(html.read());\n",
    "print(bsObj.h1)\n"
   ]
  },
  {
   "cell_type": "code",
   "execution_count": 3,
   "metadata": {},
   "outputs": [
    {
     "name": "stdout",
     "output_type": "stream",
     "text": [
      "b'<html>\\n<head>\\n<title>A Useful Page</title>\\n</head>\\n<body>\\n<h1>An Interesting Title</h1>\\n<div>\\nLorem ipsum dolor sit amet, consectetur adipisicing elit, sed do eiusmod tempor incididunt ut labore et dolore magna aliqua. Ut enim ad minim veniam, quis nostrud exercitation ullamco laboris nisi ut aliquip ex ea commodo consequat. Duis aute irure dolor in reprehenderit in voluptate velit esse cillum dolore eu fugiat nulla pariatur. Excepteur sint occaecat cupidatat non proident, sunt in culpa qui officia deserunt mollit anim id est laborum.\\n</div>\\n</body>\\n</html>\\n'\n"
     ]
    }
   ],
   "source": [
    "# the url open can fail if there does not exist a page with this url\n",
    "# so we will include exceptions for the case with try/except blocks\n",
    "\n",
    "\n",
    "try:\n",
    "    html = urlopen(\"http://www.pythonscraping.com/exercises/exercise1.html\")\n",
    "except HttpError as e:\n",
    "    print(e)\n",
    "else:\n",
    "    # otherwise continue the program\n",
    "    if html is None:\n",
    "        print(\"URL not found!\")\n",
    "    else:\n",
    "        print(html.read())"
   ]
  },
  {
   "cell_type": "code",
   "execution_count": 5,
   "metadata": {},
   "outputs": [
    {
     "name": "stdout",
     "output_type": "stream",
     "text": [
      "None\n",
      "Tag not found\n"
     ]
    }
   ],
   "source": [
    "# print all tags that dont exist in the bsObj\n",
    "print(bsObj.nonExistentTag)\n",
    "\n",
    "# this line will produce an Attribute error since there is no attribute\n",
    "# someTage to bsObj's nonExistentTag\n",
    "# print(bsObj.nonExistentTag.someTag)\n",
    "\n",
    "# to prevent above we can add try/excepts\n",
    "try:\n",
    "    badContent = bsObj.nonExistentTag.someTag\n",
    "except AttributeError as e:\n",
    "    print(\"Tag not found\")\n",
    "else:\n",
    "    if badContent is None:\n",
    "        print(\"Tag was not found\")\n",
    "    else:\n",
    "        print(badContent)"
   ]
  },
  {
   "cell_type": "code",
   "execution_count": 6,
   "metadata": {},
   "outputs": [
    {
     "name": "stdout",
     "output_type": "stream",
     "text": [
      "<h1>An Interesting Title</h1>\n"
     ]
    }
   ],
   "source": [
    "# this function is similar to the try/except developed earlier but in a compact functional way\n",
    "def getTitle(url):\n",
    "    try:\n",
    "        html = urlopen(url)\n",
    "    except HttpError as e:\n",
    "        # This is if the HTML errors out (no url exists)\n",
    "        return None\n",
    "    \n",
    "    try:\n",
    "        bsObj = BeautifulSoup(html.read())\n",
    "        title = bsObj.html.h1\n",
    "    except AttributeError as e:\n",
    "        # This is if the html.h1 attribute does not exist in the bsObj object\n",
    "        return None\n",
    "    else:\n",
    "        return title\n",
    "\n",
    "title = getTitle(\"http://www.pythonscraping.com/exercises/exercise1.html\")\n",
    "if title is None:\n",
    "    print(\"Title could not be found :(\")\n",
    "else:\n",
    "    print(title)"
   ]
  },
  {
   "cell_type": "markdown",
   "metadata": {},
   "source": [
    "# Chapter 2. Advanced HTML Parsing"
   ]
  },
  {
   "cell_type": "code",
   "execution_count": 7,
   "metadata": {},
   "outputs": [],
   "source": [
    "from urllib.request import urlopen\n",
    "from urllib.error import HTTPError\n",
    "from bs4 import BeautifulSoup\n",
    "\n",
    "# we will scrape and parse a webpage to help with poorly formatted html pages\n",
    "# in this html, green represents proper nouns, names, titles\n",
    "# and red is dialogue\n",
    "html = urlopen(\"http://www.pythonscraping.com/pages/warandpeace.html\")\n",
    "bsObj = BeautifulSoup(html)"
   ]
  },
  {
   "cell_type": "code",
   "execution_count": 8,
   "metadata": {},
   "outputs": [
    {
     "name": "stdout",
     "output_type": "stream",
     "text": [
      "Anna\n",
      "Pavlovna Scherer\n",
      "Empress Marya\n",
      "Fedorovna\n",
      "Prince Vasili Kuragin\n",
      "Anna Pavlovna\n",
      "St. Petersburg\n",
      "the prince\n",
      "Anna Pavlovna\n",
      "Anna Pavlovna\n",
      "the prince\n",
      "the prince\n",
      "the prince\n",
      "Prince Vasili\n",
      "Anna Pavlovna\n",
      "Anna Pavlovna\n",
      "the prince\n",
      "Wintzingerode\n",
      "King of Prussia\n",
      "le Vicomte de Mortemart\n",
      "Montmorencys\n",
      "Rohans\n",
      "Abbe Morio\n",
      "the Emperor\n",
      "the prince\n",
      "Prince Vasili\n",
      "Dowager Empress Marya Fedorovna\n",
      "the baron\n",
      "Anna Pavlovna\n",
      "the Empress\n",
      "the Empress\n",
      "Anna Pavlovna's\n",
      "Her Majesty\n",
      "Baron\n",
      "Funke\n",
      "The prince\n",
      "Anna\n",
      "Pavlovna\n",
      "the Empress\n",
      "The prince\n",
      "Anatole\n",
      "the prince\n",
      "The prince\n",
      "Anna\n",
      "Pavlovna\n",
      "Anna Pavlovna\n"
     ]
    }
   ],
   "source": [
    "# to grab all the proper nouns, we will focus to grab all the css values\n",
    "# that have color green\n",
    "nameList = bsObj.findAll(\"span\", {\"class\":\"green\"})\n",
    "for name in nameList:\n",
    "    print(name.get_text())"
   ]
  },
  {
   "cell_type": "code",
   "execution_count": 9,
   "metadata": {
    "scrolled": false
   },
   "outputs": [
    {
     "name": "stdout",
     "output_type": "stream",
     "text": [
      "7\n"
     ]
    }
   ],
   "source": [
    "# one param will find all tags in the collection you ask\n",
    "headers = bsObj.findAll({\"h1\",\"h2\",\"h3\",\"h4\",\"h5\",\"h6\"})\n",
    "\n",
    "# the second pram will find all tags of described type\n",
    "# with the requested attributes\n",
    "highlight = bsObj.findAll(\"span\", {\"class\":\"green\", \"class\":\"red\"})\n",
    "\n",
    "# this will find all instances of the text, and \n",
    "# print out how many times the key text appears\n",
    "nameList = bsObj.findAll(text=\"the prince\") \n",
    "print(len(nameList))\n",
    "\n",
    "# next is k(ey)w(ord)arg, which will find all tags with the specified attr\n",
    "allText = bsObj.findAll(id=\"text\")\n",
    "# print(allText[0].get_text())"
   ]
  },
  {
   "cell_type": "code",
   "execution_count": 10,
   "metadata": {
    "scrolled": true
   },
   "outputs": [
    {
     "name": "stdout",
     "output_type": "stream",
     "text": [
      "\n",
      "\n",
      "<tr><th>\n",
      "Item Title\n",
      "</th><th>\n",
      "Description\n",
      "</th><th>\n",
      "Cost\n",
      "</th><th>\n",
      "Image\n",
      "</th></tr>\n",
      "\n",
      "\n",
      "<tr class=\"gift\" id=\"gift1\"><td>\n",
      "Vegetable Basket\n",
      "</td><td>\n",
      "This vegetable basket is the perfect gift for your health conscious (or overweight) friends!\n",
      "<span class=\"excitingNote\">Now with super-colorful bell peppers!</span>\n",
      "</td><td>\n",
      "$15.00\n",
      "</td><td>\n",
      "<img src=\"../img/gifts/img1.jpg\"/>\n",
      "</td></tr>\n",
      "\n",
      "\n",
      "<tr class=\"gift\" id=\"gift2\"><td>\n",
      "Russian Nesting Dolls\n",
      "</td><td>\n",
      "Hand-painted by trained monkeys, these exquisite dolls are priceless! And by \"priceless,\" we mean \"extremely expensive\"! <span class=\"excitingNote\">8 entire dolls per set! Octuple the presents!</span>\n",
      "</td><td>\n",
      "$10,000.52\n",
      "</td><td>\n",
      "<img src=\"../img/gifts/img2.jpg\"/>\n",
      "</td></tr>\n",
      "\n",
      "\n",
      "<tr class=\"gift\" id=\"gift3\"><td>\n",
      "Fish Painting\n",
      "</td><td>\n",
      "If something seems fishy about this painting, it's because it's a fish! <span class=\"excitingNote\">Also hand-painted by trained monkeys!</span>\n",
      "</td><td>\n",
      "$10,005.00\n",
      "</td><td>\n",
      "<img src=\"../img/gifts/img3.jpg\"/>\n",
      "</td></tr>\n",
      "\n",
      "\n",
      "<tr class=\"gift\" id=\"gift4\"><td>\n",
      "Dead Parrot\n",
      "</td><td>\n",
      "This is an ex-parrot! <span class=\"excitingNote\">Or maybe he's only resting?</span>\n",
      "</td><td>\n",
      "$0.50\n",
      "</td><td>\n",
      "<img src=\"../img/gifts/img4.jpg\"/>\n",
      "</td></tr>\n",
      "\n",
      "\n",
      "<tr class=\"gift\" id=\"gift5\"><td>\n",
      "Mystery Box\n",
      "</td><td>\n",
      "If you love suprises, this mystery box is for you! Do not place on light-colored surfaces. May cause oil staining. <span class=\"excitingNote\">Keep your friends guessing!</span>\n",
      "</td><td>\n",
      "$1.50\n",
      "</td><td>\n",
      "<img src=\"../img/gifts/img6.jpg\"/>\n",
      "</td></tr>\n",
      "\n",
      "\n"
     ]
    }
   ],
   "source": [
    "# Navigating trees with another example webpage\n",
    "html = urlopen(\"http://www.pythonscraping.com/pages/page3.html\")\n",
    "bsObj = BeautifulSoup(html)\n",
    "\n",
    "# this will print all children of the table (the table rows)\n",
    "for child in bsObj.find('table', {'id': 'giftList'}).children:\n",
    "    print(child)"
   ]
  },
  {
   "cell_type": "code",
   "execution_count": 11,
   "metadata": {
    "scrolled": true
   },
   "outputs": [
    {
     "name": "stdout",
     "output_type": "stream",
     "text": [
      "\n",
      "\n",
      "<tr class=\"gift\" id=\"gift1\"><td>\n",
      "Vegetable Basket\n",
      "</td><td>\n",
      "This vegetable basket is the perfect gift for your health conscious (or overweight) friends!\n",
      "<span class=\"excitingNote\">Now with super-colorful bell peppers!</span>\n",
      "</td><td>\n",
      "$15.00\n",
      "</td><td>\n",
      "<img src=\"../img/gifts/img1.jpg\"/>\n",
      "</td></tr>\n",
      "\n",
      "\n",
      "<tr class=\"gift\" id=\"gift2\"><td>\n",
      "Russian Nesting Dolls\n",
      "</td><td>\n",
      "Hand-painted by trained monkeys, these exquisite dolls are priceless! And by \"priceless,\" we mean \"extremely expensive\"! <span class=\"excitingNote\">8 entire dolls per set! Octuple the presents!</span>\n",
      "</td><td>\n",
      "$10,000.52\n",
      "</td><td>\n",
      "<img src=\"../img/gifts/img2.jpg\"/>\n",
      "</td></tr>\n",
      "\n",
      "\n",
      "<tr class=\"gift\" id=\"gift3\"><td>\n",
      "Fish Painting\n",
      "</td><td>\n",
      "If something seems fishy about this painting, it's because it's a fish! <span class=\"excitingNote\">Also hand-painted by trained monkeys!</span>\n",
      "</td><td>\n",
      "$10,005.00\n",
      "</td><td>\n",
      "<img src=\"../img/gifts/img3.jpg\"/>\n",
      "</td></tr>\n",
      "\n",
      "\n",
      "<tr class=\"gift\" id=\"gift4\"><td>\n",
      "Dead Parrot\n",
      "</td><td>\n",
      "This is an ex-parrot! <span class=\"excitingNote\">Or maybe he's only resting?</span>\n",
      "</td><td>\n",
      "$0.50\n",
      "</td><td>\n",
      "<img src=\"../img/gifts/img4.jpg\"/>\n",
      "</td></tr>\n",
      "\n",
      "\n",
      "<tr class=\"gift\" id=\"gift5\"><td>\n",
      "Mystery Box\n",
      "</td><td>\n",
      "If you love suprises, this mystery box is for you! Do not place on light-colored surfaces. May cause oil staining. <span class=\"excitingNote\">Keep your friends guessing!</span>\n",
      "</td><td>\n",
      "$1.50\n",
      "</td><td>\n",
      "<img src=\"../img/gifts/img6.jpg\"/>\n",
      "</td></tr>\n",
      "\n",
      "\n"
     ]
    }
   ],
   "source": [
    "# This will print all the siblings (table rows) of the title row of the table\n",
    "for sibling in bsObj.find('table', {'id': 'giftList'}).tr.next_siblings:\n",
    "    print(sibling)"
   ]
  },
  {
   "cell_type": "code",
   "execution_count": 12,
   "metadata": {},
   "outputs": [
    {
     "name": "stdout",
     "output_type": "stream",
     "text": [
      "\n",
      "$15.00\n",
      "\n"
     ]
    }
   ],
   "source": [
    "# This will find the img tag that has this img1 src \n",
    "# and print its parent's previous sibling\n",
    "# the img tag is wrapped around a table data tag (td) and its previous\n",
    "# sibling is the td representing the item's price\n",
    "print(bsObj.find(\"img\",{\"src\":\"../img/gifts/img1.jpg\"\n",
    "                       }).parent.previous_sibling.get_text())"
   ]
  },
  {
   "cell_type": "code",
   "execution_count": 13,
   "metadata": {},
   "outputs": [
    {
     "name": "stdout",
     "output_type": "stream",
     "text": [
      "[<img src=\"../img/gifts/img1.jpg\"/>, <img src=\"../img/gifts/img2.jpg\"/>, <img src=\"../img/gifts/img3.jpg\"/>, <img src=\"../img/gifts/img4.jpg\"/>, <img src=\"../img/gifts/img6.jpg\"/>]\n",
      "../img/gifts/img1.jpg\n",
      "../img/gifts/img2.jpg\n",
      "../img/gifts/img3.jpg\n",
      "../img/gifts/img4.jpg\n",
      "../img/gifts/img6.jpg\n"
     ]
    }
   ],
   "source": [
    "import re\n",
    "\n",
    "# we will now use regex to find all the images\n",
    "images = bsObj.findAll('img', {\"src\" : re.compile(\"\\.\\.\\/img\\/gifts/img.*\\.jpg\")})\n",
    "print(images)\n",
    "# print(type(images))\n",
    "for image in images:\n",
    "    print(image['src'])"
   ]
  },
  {
   "cell_type": "code",
   "execution_count": 14,
   "metadata": {
    "scrolled": true
   },
   "outputs": [
    {
     "name": "stdout",
     "output_type": "stream",
     "text": [
      "\n",
      "{'src': '../img/gifts/logo.jpg', 'style': 'float:left;'}\n",
      "\n",
      "Vegetable Basket\n",
      "\n",
      "This vegetable basket is the perfect gift for your health conscious (or overweight) friends!\n",
      "Now with super-colorful bell peppers!\n",
      "\n",
      "$15.00\n",
      "\n",
      "\n",
      "\n",
      "{'id': 'gift1', 'class': ['gift']}\n",
      "\n",
      "Russian Nesting Dolls\n",
      "\n",
      "Hand-painted by trained monkeys, these exquisite dolls are priceless! And by \"priceless,\" we mean \"extremely expensive\"! 8 entire dolls per set! Octuple the presents!\n",
      "\n",
      "$10,000.52\n",
      "\n",
      "\n",
      "\n",
      "{'id': 'gift2', 'class': ['gift']}\n",
      "\n",
      "Fish Painting\n",
      "\n",
      "If something seems fishy about this painting, it's because it's a fish! Also hand-painted by trained monkeys!\n",
      "\n",
      "$10,005.00\n",
      "\n",
      "\n",
      "\n",
      "{'id': 'gift3', 'class': ['gift']}\n",
      "\n",
      "Dead Parrot\n",
      "\n",
      "This is an ex-parrot! Or maybe he's only resting?\n",
      "\n",
      "$0.50\n",
      "\n",
      "\n",
      "\n",
      "{'id': 'gift4', 'class': ['gift']}\n",
      "\n",
      "Mystery Box\n",
      "\n",
      "If you love suprises, this mystery box is for you! Do not place on light-colored surfaces. May cause oil staining. Keep your friends guessing!\n",
      "\n",
      "$1.50\n",
      "\n",
      "\n",
      "\n",
      "{'id': 'gift5', 'class': ['gift']}\n"
     ]
    }
   ],
   "source": [
    "# using lambda expressions so we can find all tags with \n",
    "# only two attributes\n",
    "lda = bsObj.findAll(lambda tag: len(tag.attrs) == 2)\n",
    "for e in lda:\n",
    "#     print(type(e))\n",
    "    print(e.get_text())\n",
    "    print(e.attrs)"
   ]
  },
  {
   "cell_type": "markdown",
   "metadata": {},
   "source": [
    "# Part i. Table -> Dataframe"
   ]
  },
  {
   "cell_type": "code",
   "execution_count": 15,
   "metadata": {
    "scrolled": false
   },
   "outputs": [
    {
     "data": {
      "text/html": [
       "<div>\n",
       "<style scoped>\n",
       "    .dataframe tbody tr th:only-of-type {\n",
       "        vertical-align: middle;\n",
       "    }\n",
       "\n",
       "    .dataframe tbody tr th {\n",
       "        vertical-align: top;\n",
       "    }\n",
       "\n",
       "    .dataframe thead th {\n",
       "        text-align: right;\n",
       "    }\n",
       "</style>\n",
       "<table border=\"1\" class=\"dataframe\">\n",
       "  <thead>\n",
       "    <tr style=\"text-align: right;\">\n",
       "      <th></th>\n",
       "      <th>Item</th>\n",
       "      <th>Cost</th>\n",
       "    </tr>\n",
       "  </thead>\n",
       "  <tbody>\n",
       "    <tr>\n",
       "      <th>0</th>\n",
       "      <td>Vegetable Basket</td>\n",
       "      <td>$15.00</td>\n",
       "    </tr>\n",
       "    <tr>\n",
       "      <th>1</th>\n",
       "      <td>Russian Nesting Dolls</td>\n",
       "      <td>$10,000.52</td>\n",
       "    </tr>\n",
       "    <tr>\n",
       "      <th>2</th>\n",
       "      <td>Fish Painting</td>\n",
       "      <td>$10,005.00</td>\n",
       "    </tr>\n",
       "    <tr>\n",
       "      <th>3</th>\n",
       "      <td>Dead Parrot</td>\n",
       "      <td>$0.50</td>\n",
       "    </tr>\n",
       "    <tr>\n",
       "      <th>4</th>\n",
       "      <td>Mystery Box</td>\n",
       "      <td>$1.50</td>\n",
       "    </tr>\n",
       "  </tbody>\n",
       "</table>\n",
       "</div>"
      ],
      "text/plain": [
       "                    Item        Cost\n",
       "0       Vegetable Basket      $15.00\n",
       "1  Russian Nesting Dolls  $10,000.52\n",
       "2          Fish Painting  $10,005.00\n",
       "3            Dead Parrot       $0.50\n",
       "4            Mystery Box       $1.50"
      ]
     },
     "execution_count": 15,
     "metadata": {},
     "output_type": "execute_result"
    }
   ],
   "source": [
    "# we will now transform the data from the \n",
    "# table in the html into a pandas dataframe\n",
    "# column values will include: item title & cost\n",
    "from urllib.request import urlopen\n",
    "from urllib.error import HTTPError\n",
    "from bs4 import BeautifulSoup\n",
    "import pandas as pd\n",
    "import re\n",
    "\n",
    "# We are going to initialize an empty dictionary\n",
    "# so we can store the table data into\n",
    "table_values = {}\n",
    "table_values['Item'] = []\n",
    "table_values['Cost'] = []\n",
    "# table_values\n",
    "\n",
    "#lets grab all the table entries from the url\n",
    "html = urlopen(\"http://www.pythonscraping.com/pages/page3.html\")\n",
    "bs = BeautifulSoup(html)\n",
    "\n",
    "# collect all the table entries into a \n",
    "# using regex\n",
    "table = bs.findAll('tr',{'id':re.compile('gift*')})\n",
    "\n",
    "# we know the first value will be the title and the 3rd item\n",
    "# is the cost. Use findAll with 'td' to grab td into a list\n",
    "# We can use list comprehensions to do this operation\n",
    "table = [entry.findAll('td') for entry in table]\n",
    "# table\n",
    "\n",
    "for entry in table:\n",
    "    # we need to strip the newline away\n",
    "    table_values['Item'].append(entry[0].get_text().strip(\"\\n\"))\n",
    "    table_values['Cost'].append(entry[2].get_text().strip(\"\\n\"))\n",
    "# print(table_values)\n",
    "\n",
    "items_pd = pd.DataFrame(table_values)\n",
    "items_pd"
   ]
  },
  {
   "cell_type": "markdown",
   "metadata": {},
   "source": [
    "# Part ii. Russian Nesting Dolls"
   ]
  },
  {
   "cell_type": "code",
   "execution_count": 16,
   "metadata": {},
   "outputs": [
    {
     "name": "stdout",
     "output_type": "stream",
     "text": [
      "['Russian Nesting Dolls', '8 entire dolls per set! Octuple the presents!', '$10,000']\n",
      "Russian Nesting Dolls\n",
      "8 entire dolls per set! Octuple the presents!\n",
      "$10,000\n"
     ]
    }
   ],
   "source": [
    "# we will capture the russian nesting doll \n",
    "# table entry with the image its associated with\n",
    "# which is ../img/gifts/img2.jpg\n",
    "from urllib.request import urlopen\n",
    "from urllib.error import HTTPError\n",
    "from bs4 import BeautifulSoup\n",
    "import pandas as pd\n",
    "import re\n",
    "\n",
    "# We use a regex to find the russian dolls for img src\n",
    "# we will also the get the parent's parent to grab the table row\n",
    "russian_dolls = bs.find('img',{\"src\" : re.compile(\"\\.\\.\\/img\\/gifts/img2\\.jpg\")}).parent.parent\n",
    "russian_dolls = russian_dolls.findAll('td')\n",
    "# print(russian_dolls)\n",
    "\n",
    "russian_doll_info = []\n",
    "\n",
    "# Add the itemname\n",
    "russian_doll_info.append(russian_dolls[0].get_text().strip(\"\\n\"))\n",
    "\n",
    "# Add only the bolded section of the description\n",
    "russian_doll_info.append(russian_dolls[1].find('span', {'class':'excitingNote'}).get_text().strip('\\n'))\n",
    "\n",
    "# Append the price without everything to the right of the decimal\n",
    "# we need to change to text value, strip the '\\n' and then only\n",
    "# grab the left array after the split by the '.' char\n",
    "russian_doll_info.append(russian_dolls[2].get_text().strip('\\n').split('.')[0])\n",
    "\n",
    "# Print the data\n",
    "print(russian_doll_info)\n",
    "for info in russian_doll_info:\n",
    "    print(info)\n"
   ]
  },
  {
   "cell_type": "code",
   "execution_count": null,
   "metadata": {},
   "outputs": [],
   "source": []
  }
 ],
 "metadata": {
  "kernelspec": {
   "display_name": "Python 3",
   "language": "python",
   "name": "python3"
  },
  "language_info": {
   "codemirror_mode": {
    "name": "ipython",
    "version": 3
   },
   "file_extension": ".py",
   "mimetype": "text/x-python",
   "name": "python",
   "nbconvert_exporter": "python",
   "pygments_lexer": "ipython3",
   "version": "3.7.1"
  }
 },
 "nbformat": 4,
 "nbformat_minor": 2
}
