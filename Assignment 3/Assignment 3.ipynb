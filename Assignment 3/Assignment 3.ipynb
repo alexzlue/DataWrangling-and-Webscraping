{
 "cells": [
  {
   "cell_type": "markdown",
   "metadata": {},
   "source": [
    "# Assignment 3: Plotting Asthma Data\n",
    "\n",
    "In this assignment, I will display asthma data with multiple graphs with the data I groomed in assignment 2 and new data I found for this assignment.\n",
    "\n",
    "1. Libraries used: Pandas, matplotlib\n",
    "2. DS applied: I used Pandas DataFrames (df), Matplotlib axes (ax)\n",
    "3. Graphs produced: line, bar, normal distr, pie\n",
    "4. Features explored: ggplot, x-y labels, x-y ticks, legend, title, rot(ation), figsize, fontsize, color, bins, labels, autopct"
   ]
  },
  {
   "cell_type": "code",
   "execution_count": null,
   "metadata": {},
   "outputs": [],
   "source": [
    "# Data used in this assignment was found here:\n",
    "# 2015 Adult Asthma Data: Prevalence Tables and Maps: https://www.cdc.gov/asthma/brfss/2015/tableC1.htm\n",
    "\n",
    "# I will also be using data from the previous asgn. Collected from: https://data.world/cdc/children-with-current-asthma\n",
    "\n",
    "\n",
    "\n",
    "import pandas as pd\n",
    "import numpy as np\n",
    "import matplotlib.pyplot as plt\n",
    "import matplotlib\n",
    "import seaborn as sns\n",
    "matplotlib.style.use('ggplot')\n",
    "plt.close('all')\n",
    "\n",
    "dataset_dem = \"./asthma_dataset_by_dem.csv\"\n",
    "dataset_terr = \"./asthma_rates_territory.csv\"\n"
   ]
  },
  {
   "cell_type": "code",
   "execution_count": null,
   "metadata": {},
   "outputs": [],
   "source": [
    "# Let's first consider differences in gender data\n",
    "use_cols = [i for i in range(1,14)]\n",
    "df_gender = pd.read_csv(dataset_dem, nrows=2,header=1, skiprows=[2,3],usecols=use_cols)\n",
    "# reading 2 rows from the demographic dataset, male and female\n",
    "df_gender\n",
    "# years = [i for i in range(2001,2014)]\n",
    "gender_plt = df_gender.transpose().plot(kind=\"line\", title=\"Asthma by Gender 2001 to 2013\", rot=\"45\")\n",
    "gender_plt.set_xlabel(\"Years\") # sets x label as year\n",
    "gender_plt.set_ylabel(\"Percent %\") # sets y label as %\n",
    "gender_plt.legend([\"Male\",\"Female\"]) # labels male and female\n",
    "gender_plt.set_xticklabels([str(i) for i in range(1999,2014,2)]) # indexes ticks\n",
    "\n",
    "\n",
    "# Plot Line graphs of years by percent\n"
   ]
  },
  {
   "cell_type": "code",
   "execution_count": null,
   "metadata": {
    "scrolled": false
   },
   "outputs": [],
   "source": [
    "# Now use the new dataset\n",
    "df_terr = pd.read_csv(dataset_terr, usecols=[0,1,2], skiprows=[1,53])\n",
    "df_sort = df_terr.sort_values(by='Prevalence (Percent)', ascending=False)\n",
    "# df_terr\n",
    "\n",
    "# Lets create a sorted bar graph that sorts from most to least prevalent states\n",
    "state_plt = df_sort.plot(kind='bar', figsize=(20,5), fontsize=10) # We will use a bargraph \n",
    "state_plt.set_xlabel(\"State/Territory\") # sets x label as State\n",
    "state_plt.set_ylabel(\"Percent %\") # sets y label as Percentage\n",
    "state_plt.set_xticklabels(list(df_sort['State']),rotation=0) # Adds State to X-ticks to see the values"
   ]
  },
  {
   "cell_type": "code",
   "execution_count": null,
   "metadata": {},
   "outputs": [],
   "source": [
    "# We can also normalize the data that we have to find the avg % by territory\n",
    "\n",
    "values = list(df_terr['Prevalence (Percent)']) # collecting the %'s and storing into a list\n",
    "values\n",
    "norm_plt = sns.distplot(values, bins=20, color='k') # We will use the seaborn package to create the plots to normalise values\n",
    "norm_plt.set_xlabel(\"Percentage\")"
   ]
  },
  {
   "cell_type": "code",
   "execution_count": null,
   "metadata": {},
   "outputs": [],
   "source": [
    "# Lets now make a pie chart of the distribution of prevalence based off the sample\n",
    "# So we will use the estimated Prevalence (number) to measure this\n",
    "\n",
    "df_terr_prev = pd.read_csv(dataset_terr, usecols=[0,5], skiprows=[1,53]) \n",
    "# gets dataset, uses only the Prevalence & state col\n",
    "\n",
    "values = list(df_terr_prev['Prevalence (number)']) # Get values into a list\n",
    "values = [int(\"\".join(i.split(\",\"))) for i in values] \n",
    "# Since these are comma-valued strings, we must strip the ',' and then put the values back into df_terr_prev\n",
    "df_terr_prev['Prevalence (number)'] = values\n",
    "df_terr_prev\n",
    "\n",
    "#creates a pie chart with states and respective proportions\n",
    "pie_plt = df_terr_prev.plot(kind=\"pie\", y='Prevalence (number)', figsize=(20,20), autopct='%.2f',\n",
    "                            labels=df_terr_prev['State'], legend=False, fontsize=10)\n"
   ]
  },
  {
   "cell_type": "code",
   "execution_count": null,
   "metadata": {},
   "outputs": [],
   "source": []
  }
 ],
 "metadata": {
  "kernelspec": {
   "display_name": "Python 3",
   "language": "python",
   "name": "python3"
  },
  "language_info": {
   "codemirror_mode": {
    "name": "ipython",
    "version": 3
   },
   "file_extension": ".py",
   "mimetype": "text/x-python",
   "name": "python",
   "nbconvert_exporter": "python",
   "pygments_lexer": "ipython3",
   "version": "3.7.1"
  }
 },
 "nbformat": 4,
 "nbformat_minor": 2
}
